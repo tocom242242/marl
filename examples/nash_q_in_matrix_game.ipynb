{
 "cells": [
  {
   "cell_type": "code",
   "execution_count": 3,
   "metadata": {},
   "outputs": [],
   "source": [
    "import numpy as np\n",
    "import matplotlib.pyplot as plt\n",
    "import sys\n",
    "\n",
    "sys.path.append('..')\n",
    "from agents.nash_q_learner import NashQLearner\n",
    "from games.matrix_game import MatrixGame"
   ]
  },
  {
   "cell_type": "code",
   "execution_count": 4,
   "metadata": {},
   "outputs": [
    {
     "name": "stderr",
     "output_type": "stream",
     "text": [
      "/home/okano/.pyenv/versions/3.6.0/lib/python3.6/site-packages/nashpy/integer_pivoting/integer_pivoting.py:31: RuntimeWarning: invalid value encountered in true_divide\n",
      "  return np.argmax(tableau[:, column_index] / tableau[:, -1])\n",
      "/home/okano/.pyenv/versions/3.6.0/lib/python3.6/site-packages/nashpy/algorithms/lemke_howson.py:61: RuntimeWarning: invalid value encountered in true_divide\n",
      "  return strategy / sum(strategy)\n",
      "/home/okano/.pyenv/versions/3.6.0/lib/python3.6/site-packages/nashpy/integer_pivoting/integer_pivoting.py:31: RuntimeWarning: divide by zero encountered in true_divide\n",
      "  return np.argmax(tableau[:, column_index] / tableau[:, -1])\n"
     ]
    }
   ],
   "source": [
    "\n",
    "nb_episode = 100\n",
    "\n",
    "agent1 = NashQLearner(\n",
    "    actions=np.arange(2))\n",
    "agent2 = NashQLearner(\n",
    "    actions=np.arange(2))\n",
    "\n",
    "game = MatrixGame()\n",
    "pi1_history = []\n",
    "pi2_history = []\n",
    "for episode in range(nb_episode):\n",
    "    action1 = agent1.act()\n",
    "    action2 = agent2.act()\n",
    "\n",
    "    _, r1, r2 = game.step(action1, action2)\n",
    "\n",
    "    agent1.observe(\n",
    "        reward=r1,\n",
    "        reward_o=r2,\n",
    "        opponent_action=agent2.prev_action)\n",
    "    agent2.observe(\n",
    "        reward=r2,\n",
    "        reward_o=r1,\n",
    "        opponent_action=agent1.prev_action)\n",
    "\n",
    "    pi1 = agent1.get_pi()\n",
    "    pi2 = agent2.get_pi()\n",
    "    pi1_history.append(pi1[0])\n",
    "    pi2_history.append(pi2[0])\n",
    "\n",
    "\n",
    "\n"
   ]
  },
  {
   "cell_type": "code",
   "execution_count": 5,
   "metadata": {},
   "outputs": [
    {
     "data": {
      "image/png": "[encoded data removed]",
      "text/plain": [
       "<Figure size 432x288 with 1 Axes>"
      ]
     },
     "metadata": {},
     "output_type": "display_data"
    }
   ],
   "source": [
    "plt.plot(np.arange(len(pi1_history)),\n",
    "         pi1_history, label=\"agent1's pi(0)\")\n",
    "plt.plot(np.arange(len(pi2_history)),\n",
    "         pi2_history, label=\"agent2's pi(0)\")\n",
    "plt.xlabel(\"episode\")\n",
    "plt.ylabel(\"pi(0)\")\n",
    "plt.ylim(0, 1)\n",
    "plt.legend()\n",
    "plt.savefig(\"result.jpg\")\n",
    "plt.show()"
   ]
  }
 ],
 "metadata": {
  "kernelspec": {
   "display_name": "Python 3",
   "language": "python",
   "name": "python3"
  },
  "language_info": {
   "codemirror_mode": {
    "name": "ipython",
    "version": 3
   },
   "file_extension": ".py",
   "mimetype": "text/x-python",
   "name": "python",
   "nbconvert_exporter": "python",
   "pygments_lexer": "ipython3",
   "version": "3.6.0"
  }
 },
 "nbformat": 4,
 "nbformat_minor": 2
}
